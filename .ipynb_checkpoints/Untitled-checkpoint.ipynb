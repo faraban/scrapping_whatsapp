{
 "cells": [
  {
   "cell_type": "code",
   "execution_count": 39,
   "id": "e41499a9",
   "metadata": {},
   "outputs": [],
   "source": [
    "import pandas as pd  \n",
    "from selenium import webdriver \n",
    "from bs4 import BeautifulSoup as bs  \n",
    "from selenium.webdriver.common.by import By \n",
    "from selenium.webdriver.common.keys import Keys \n",
    "from selenium.webdriver.support.ui import WebDriverWait \n",
    "from selenium.webdriver.support import expected_conditions as EC  \n",
    "from time import sleep \n",
    "from unidecode import unidecode\n",
    "import os\n",
    "import cv2"
   ]
  },
  {
   "cell_type": "code",
   "execution_count": 40,
   "id": "a1a79eec",
   "metadata": {},
   "outputs": [],
   "source": [
    "def taketext_elements(chat):\n",
    "    \n",
    "    chat = bs(chat.get_attribute('innerHTML'))\n",
    "    check_message = chat.find('span', class_='_11JPr selectable-text copyable-text')\n",
    "    check_infos = chat.find('div', class_='copyable-text')\n",
    "    \n",
    "    detaille = []\n",
    "    message = []\n",
    "    \n",
    "    if check_message:\n",
    "        message.append(check_message.text)\n",
    "    \n",
    "    if check_infos:\n",
    "        detaille.append(check_infos.get('data-pre-plain-text'))\n",
    "        \n",
    "    return (detaille, message)"
   ]
  },
  {
   "cell_type": "code",
   "execution_count": 41,
   "id": "214dad54",
   "metadata": {},
   "outputs": [],
   "source": [
    "def rogner_centre(image_path, largeur_cible, hauteur_cible):\n",
    "    \n",
    "    image = cv2.imread(image_path)\n",
    "    (hauteur_image, largeur_image) = image.shape[:2]\n",
    "    x_debut = (largeur_image - largeur_cible) // 2\n",
    "    y_debut = (hauteur_image - hauteur_cible) // 2\n",
    "    image_rognée = image[y_debut:y_debut + hauteur_cible, x_debut:x_debut + largeur_cible]\n",
    "\n",
    "    cv2.imwrite(image_path, image_rognée)"
   ]
  },
  {
   "cell_type": "code",
   "execution_count": 42,
   "id": "c5be463d",
   "metadata": {},
   "outputs": [],
   "source": [
    "def search_name(name):\n",
    "    ma_div= driver.find_element(By.ID,'pane-side')\n",
    "    height = driver.execute_script(\"return arguments[0].scrollHeight;\", ma_div)\n",
    "    for i in range(0, height,500):\n",
    "        driver.execute_script(f\"arguments[0].scrollTop = {i};\", ma_div)\n",
    "        sleep(2)\n",
    "        try:\n",
    "            title = driver.find_element(By.XPATH, f'//span[contains(@title, ' + '\"' + \"G Immo agré/Client direct\" + '\"' + ')]')\n",
    "            if title:\n",
    "                title.click()\n",
    "                break\n",
    "        except:\n",
    "            continue"
   ]
  },
  {
   "cell_type": "code",
   "execution_count": 84,
   "id": "df7224ad",
   "metadata": {},
   "outputs": [],
   "source": [
    "def save_image(count,name):\n",
    "    image_links = []\n",
    "    for i in range(count[0],count[1]):\n",
    "        a =unidecode(driver.find_element(By.CLASS_NAME, 'y_sn4').text) \n",
    "        b = str(driver.find_element(By.CLASS_NAME, 'vQ0w7').text)\n",
    "        b = b.replace(':', 'h')\n",
    "        image_links.append(a + '/' + b)\n",
    "        nom = f'C:/Users/HP/Pictures/{a}/{b}'\n",
    "        try:\n",
    "            os.makedirs(f'{nom}')\n",
    "        except:\n",
    "            a=0\n",
    "        driver.save_screenshot(os.path.join(f'{nom}', f'image{i}.png'))\n",
    "        rogner_centre(f'{nom}' + f'/image{i}.png', 900, 600)\n",
    "        selects= driver.find_element(By.CSS_SELECTOR, '.p357zi0d.gndfcl4n.ac2vgrno.d6ll3xky.db4qzak4.i5tg98hk.f9ovudaz.przvwfww.gx1rr48f.f8jlpxt4.hnx8ox4h.k17s6i4e.ofejerhi.f6e355lk.g9p5wyxn.i0tg5vk9.aoogvgrq.o2zu3hjb.hftcxtij.rtx6r8la.e3b81npk.oa9ii99z.p1ii4mzz.lhggkp7q.ba95y10t.citmgm7b').click()\n",
    "        sleep(2)\n",
    "        \n",
    "    df = pd.DataFrame({'infos_dossier': image_links})\n",
    "    df.to_excel(f'C:/Users/HP/Pictures/db/dossier_image_{name}.xlsx')\n",
    "    return "
   ]
  },
  {
   "cell_type": "code",
   "execution_count": null,
   "id": "e2e75691",
   "metadata": {},
   "outputs": [],
   "source": [
    "def create_db(chats):\n",
    "    detailles = []  \n",
    "    messages = []  \n",
    "    if chats:\n",
    "        for chat in chats:\n",
    "            (detaille, message) = taketext_elements(chat)\n",
    "            detailles.append(detaille)\n",
    "            messages.append(message)\n",
    "    data = {'infos': detailles, 'messages': messages}\n",
    "    dt = pd.DataFrame(data)\n",
    "    dt.to_excel(f'C:/Users/HP/Pictures/db/whatsapp_{name}.xlsx')"
   ]
  },
  {
   "cell_type": "code",
   "execution_count": 86,
   "id": "7d7a3579",
   "metadata": {},
   "outputs": [],
   "source": [
    "def Takechats(liste, stopdate):\n",
    "    for name in liste:\n",
    "        search_name(name)\n",
    "        dates=[]\n",
    "        while stopdate not in dates:\n",
    "            chats = driver.find_elements(By.CLASS_NAME, \"cm280p3y.to2l77zo.n1yiu2zv.c6f98ldp.ooty25bp.oq31bsqd\")\n",
    "            chats1 = driver.find_elements(By.CLASS_NAME, \"_3FFAQ.UzMP7\")\n",
    "            date = driver.find_elements(By.CLASS_NAME, 'UzMP7.n6BPp')\n",
    "            try:\n",
    "                select = driver.find_element(By.CSS_SELECTOR, '.tt8xd2xn.kjemk6od.mpdn4nr2.svoq16ka')\n",
    "            except:\n",
    "                continue\n",
    "            driver.execute_script(\"arguments[0].scrollIntoView();\", date[0])\n",
    "            sleep(2)\n",
    "            for i in date:\n",
    "                try:\n",
    "                    dates.append(i.text)\n",
    "                except:\n",
    "                    dates.append('AN')\n",
    "                    continue\n",
    "        if select:\n",
    "            select.click()\n",
    "            sleep(2)\n",
    "            count = driver.find_element(By.CLASS_NAME,'_3-3LX').text\n",
    "            count = [int(s) for s in chaine.split() if s.isdigit()]\n",
    "            save_image(count,name)\n",
    "            \n",
    "        create_db(chats)\n"
   ]
  },
  {
   "cell_type": "code",
   "execution_count": 80,
   "id": "77f883c5",
   "metadata": {},
   "outputs": [],
   "source": [
    "# Initialise un navigateur Chrome avec Selenium et ouvre WhatsApp Web.\n",
    "driver = webdriver.Chrome()\n",
    "driver.get(\"https://web.whatsapp.com/\")"
   ]
  },
  {
   "cell_type": "code",
   "execution_count": 87,
   "id": "c97ff290",
   "metadata": {
    "scrolled": true
   },
   "outputs": [],
   "source": [
    "# Liste des contacts à extraire.\n",
    "liste = ['G Immo agré/Client direct']\n",
    "\n",
    "# Date d'arrêt pour l'extraction des chats.\n",
    "date = '+225 09 12 96 13\\nadded you'\n",
    "\n",
    "# Appelle la fonction 'Takechats' pour extraire les données de chat.\n",
    "Takechats(liste, date)"
   ]
  },
  {
   "cell_type": "code",
   "execution_count": null,
   "id": "c9111af5",
   "metadata": {},
   "outputs": [],
   "source": []
  }
 ],
 "metadata": {
  "kernelspec": {
   "display_name": "Python 3 (ipykernel)",
   "language": "python",
   "name": "python3"
  },
  "language_info": {
   "codemirror_mode": {
    "name": "ipython",
    "version": 3
   },
   "file_extension": ".py",
   "mimetype": "text/x-python",
   "name": "python",
   "nbconvert_exporter": "python",
   "pygments_lexer": "ipython3",
   "version": "3.11.5"
  }
 },
 "nbformat": 4,
 "nbformat_minor": 5
}
