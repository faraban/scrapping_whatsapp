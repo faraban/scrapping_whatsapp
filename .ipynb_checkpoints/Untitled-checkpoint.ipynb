{
 "cells": [
  {
   "cell_type": "code",
   "execution_count": 1,
   "id": "e41499a9",
   "metadata": {},
   "outputs": [],
   "source": [
    "import pandas as pd\n",
    "from selenium import webdriver\n",
    "from bs4 import BeautifulSoup as bs\n",
    "from selenium.webdriver.common.by import By\n",
    "from selenium.webdriver.support.ui import WebDriverWait\n",
    "from selenium.webdriver.support import expected_conditions as EC\n",
    "from time import sleep\n",
    "import os\n",
    "import requests\n",
    "import base64"
   ]
  },
  {
   "cell_type": "code",
   "execution_count": 2,
   "id": "a1a79eec",
   "metadata": {},
   "outputs": [],
   "source": [
    "def taketext_elements(chat):\n",
    "    chat=bs(chat.get_attribute('innerHTML'))\n",
    "    check_message = chat.find('span', class_='_11JPr selectable-text copyable-text')\n",
    "    check_infos = chat.find('div', class_='copyable-text')\n",
    "    \n",
    "    detaille=[]\n",
    "    message=[]\n",
    "    if check_message:\n",
    "        message.append(check_message.text)\n",
    "    if check_infos:\n",
    "        detaille.append(check_infos.get('data-pre-plain-text')) \n",
    "    return (detaille,message)"
   ]
  },
  {
   "cell_type": "code",
   "execution_count": 109,
   "id": "7d7a3579",
   "metadata": {},
   "outputs": [],
   "source": [
    "def Takechats(liste,stopdate):\n",
    "    wait = WebDriverWait(driver, 100)\n",
    "    detailles=[]\n",
    "    messages=[]\n",
    "    image_links=[]\n",
    "    for name in liste:\n",
    "        arg = '//span[contains(@title, '+ '\"' +name + '\"'+ ')]'\n",
    "        title = wait.until(EC.presence_of_element_located((By.XPATH,arg))).click()\n",
    "        dates=[]\n",
    "        time=0\n",
    "        while stopdate not in dates:\n",
    "            chats = driver.find_elements(By.CLASS_NAME,\"cm280p3y.to2l77zo.n1yiu2zv.c6f98ldp.ooty25bp.oq31bsqd\")\n",
    "            chats1 = driver.find_elements(By.CLASS_NAME,\"_3FFAQ.UzMP7\")\n",
    "            date=driver.find_elements(By.CLASS_NAME,'UzMP7.n6BPp')\n",
    "            select=driver.find_element(By.CSS_SELECTOR,'.UzMP7._27hEJ._3m5cz')\n",
    "            driver.execute_script(\"arguments[0].scrollIntoView();\",date[0])\n",
    "            sleep(2)\n",
    "            for i in date:\n",
    "                try:\n",
    "                    dates.append(i.text)\n",
    "                except:\n",
    "                    dates.append('AN')\n",
    "                    continue\n",
    "\n",
    "        if chats:\n",
    "            for chat in chats:\n",
    "                (detaille,message)=taketext_elements(chat)\n",
    "                detailles.append(detaille)\n",
    "                messages.append(message)\n",
    "                \n",
    "        select.click()\n",
    "        sleep(2)\n",
    "        count=driver.find_elements(By.CLASS_NAME,\"g0rxnol2.oxqu41e7.ikc09dv3.mpdn4nr2.gfz4du6o.r7fjleex.bazijzwv.n0hkwe29.fvb4mgxr.ho9ovbg7.tcg15ap9.c5wy1lv0.bqysl6j9.cm280p3y.p357zi0d.tvf2evcx.oq44ahr5.lb5m6g5c.gndfcl4n.ac2vgrno.bar07sny.ttwqun4y.jbydbyre.svoq16ka.ajgl1lbb.bs7a17vp.kvhexry3.pzeoqukz\")\n",
    "        for i in range(len(count)+1):\n",
    "            a=driver.find_element(By.CLASS_NAME,'y_sn4').text\n",
    "            b=str(driver.find_element(By.CLASS_NAME,'vQ0w7').text)\n",
    "            b=b.replace(' ', '')\n",
    "            nom=f'C:/Users/HP/Pictures/{a}'\n",
    "            try:\n",
    "                os.makedirs(f'{nom}')\n",
    "            except Exception as e:\n",
    "                   print(e)\n",
    "            driver.save_screenshot(os.path.join(f'{nom}', f'image-{b}-{i}.png'))\n",
    "            selects=driver.find_element(By.XPATH,'//*[@id=\"app\"]/div/span[3]/div/div/div[2]/div/div[2]/div[3]/div/div').click()\n",
    "            sleep(2)   \n",
    "    return"
   ]
  },
  {
   "cell_type": "code",
   "execution_count": 45,
   "id": "77f883c5",
   "metadata": {},
   "outputs": [],
   "source": [
    "driver = webdriver.Chrome()\n",
    "driver.get(\"https://web.whatsapp.com/\")"
   ]
  },
  {
   "cell_type": "code",
   "execution_count": 111,
   "id": "b1d387b1",
   "metadata": {},
   "outputs": [
    {
     "ename": "WebDriverException",
     "evalue": "Message: disconnected: not connected to DevTools\n  (failed to check if window was closed: disconnected: not connected to DevTools)\n  (Session info: chrome=118.0.5993.70)\nStacktrace:\n\tGetHandleVerifier [0x00007FF7B5D08EF2+54786]\n\t(No symbol) [0x00007FF7B5C75612]\n\t(No symbol) [0x00007FF7B5B2A64B]\n\t(No symbol) [0x00007FF7B5B18617]\n\t(No symbol) [0x00007FF7B5B18290]\n\t(No symbol) [0x00007FF7B5B2C541]\n\t(No symbol) [0x00007FF7B5BA43FF]\n\t(No symbol) [0x00007FF7B5B8BC43]\n\t(No symbol) [0x00007FF7B5B60941]\n\t(No symbol) [0x00007FF7B5B61B84]\n\tGetHandleVerifier [0x00007FF7B6057F52+3524194]\n\tGetHandleVerifier [0x00007FF7B60AD800+3874576]\n\tGetHandleVerifier [0x00007FF7B60A5D7F+3843215]\n\tGetHandleVerifier [0x00007FF7B5DA5086+694166]\n\t(No symbol) [0x00007FF7B5C80A88]\n\t(No symbol) [0x00007FF7B5C7CA94]\n\t(No symbol) [0x00007FF7B5C7CBC2]\n\t(No symbol) [0x00007FF7B5C6CC83]\n\tBaseThreadInitThunk [0x00007FFBA73C7344+20]\n\tRtlUserThreadStart [0x00007FFBA91826B1+33]\n",
     "output_type": "error",
     "traceback": [
      "\u001b[1;31m---------------------------------------------------------------------------\u001b[0m",
      "\u001b[1;31mWebDriverException\u001b[0m                        Traceback (most recent call last)",
      "Input \u001b[1;32mIn [111]\u001b[0m, in \u001b[0;36m<cell line: 3>\u001b[1;34m()\u001b[0m\n\u001b[0;32m      1\u001b[0m liste\u001b[38;5;241m=\u001b[39m[\u001b[38;5;124m'\u001b[39m\u001b[38;5;124mAbdoul Aziz Ndiaye\u001b[39m\u001b[38;5;124m'\u001b[39m]\n\u001b[0;32m      2\u001b[0m date\u001b[38;5;241m=\u001b[39m\u001b[38;5;124m'\u001b[39m\u001b[38;5;124m2023-09-21\u001b[39m\u001b[38;5;124m'\u001b[39m\n\u001b[1;32m----> 3\u001b[0m chat\u001b[38;5;241m=\u001b[39m\u001b[43mTakechats\u001b[49m\u001b[43m(\u001b[49m\u001b[43mliste\u001b[49m\u001b[43m,\u001b[49m\u001b[43mdate\u001b[49m\u001b[43m)\u001b[49m\n",
      "Input \u001b[1;32mIn [109]\u001b[0m, in \u001b[0;36mTakechats\u001b[1;34m(liste, stopdate)\u001b[0m\n\u001b[0;32m      6\u001b[0m \u001b[38;5;28;01mfor\u001b[39;00m name \u001b[38;5;129;01min\u001b[39;00m liste:\n\u001b[0;32m      7\u001b[0m     arg \u001b[38;5;241m=\u001b[39m \u001b[38;5;124m'\u001b[39m\u001b[38;5;124m//span[contains(@title, \u001b[39m\u001b[38;5;124m'\u001b[39m\u001b[38;5;241m+\u001b[39m \u001b[38;5;124m'\u001b[39m\u001b[38;5;124m\"\u001b[39m\u001b[38;5;124m'\u001b[39m \u001b[38;5;241m+\u001b[39mname \u001b[38;5;241m+\u001b[39m \u001b[38;5;124m'\u001b[39m\u001b[38;5;124m\"\u001b[39m\u001b[38;5;124m'\u001b[39m\u001b[38;5;241m+\u001b[39m \u001b[38;5;124m'\u001b[39m\u001b[38;5;124m)]\u001b[39m\u001b[38;5;124m'\u001b[39m\n\u001b[1;32m----> 8\u001b[0m     title \u001b[38;5;241m=\u001b[39m \u001b[43mwait\u001b[49m\u001b[38;5;241;43m.\u001b[39;49m\u001b[43muntil\u001b[49m\u001b[43m(\u001b[49m\u001b[43mEC\u001b[49m\u001b[38;5;241;43m.\u001b[39;49m\u001b[43mpresence_of_element_located\u001b[49m\u001b[43m(\u001b[49m\u001b[43m(\u001b[49m\u001b[43mBy\u001b[49m\u001b[38;5;241;43m.\u001b[39;49m\u001b[43mXPATH\u001b[49m\u001b[43m,\u001b[49m\u001b[43marg\u001b[49m\u001b[43m)\u001b[49m\u001b[43m)\u001b[49m\u001b[43m)\u001b[49m\u001b[38;5;241m.\u001b[39mclick()\n\u001b[0;32m      9\u001b[0m     dates\u001b[38;5;241m=\u001b[39m[]\n\u001b[0;32m     10\u001b[0m     time\u001b[38;5;241m=\u001b[39m\u001b[38;5;241m0\u001b[39m\n",
      "File \u001b[1;32m~\\anaconda3\\lib\\site-packages\\selenium\\webdriver\\support\\wait.py:86\u001b[0m, in \u001b[0;36mWebDriverWait.until\u001b[1;34m(self, method, message)\u001b[0m\n\u001b[0;32m     84\u001b[0m \u001b[38;5;28;01mwhile\u001b[39;00m \u001b[38;5;28;01mTrue\u001b[39;00m:\n\u001b[0;32m     85\u001b[0m     \u001b[38;5;28;01mtry\u001b[39;00m:\n\u001b[1;32m---> 86\u001b[0m         value \u001b[38;5;241m=\u001b[39m \u001b[43mmethod\u001b[49m\u001b[43m(\u001b[49m\u001b[38;5;28;43mself\u001b[39;49m\u001b[38;5;241;43m.\u001b[39;49m\u001b[43m_driver\u001b[49m\u001b[43m)\u001b[49m\n\u001b[0;32m     87\u001b[0m         \u001b[38;5;28;01mif\u001b[39;00m value:\n\u001b[0;32m     88\u001b[0m             \u001b[38;5;28;01mreturn\u001b[39;00m value\n",
      "File \u001b[1;32m~\\anaconda3\\lib\\site-packages\\selenium\\webdriver\\support\\expected_conditions.py:81\u001b[0m, in \u001b[0;36mpresence_of_element_located.<locals>._predicate\u001b[1;34m(driver)\u001b[0m\n\u001b[0;32m     80\u001b[0m \u001b[38;5;28;01mdef\u001b[39;00m \u001b[38;5;21m_predicate\u001b[39m(driver):\n\u001b[1;32m---> 81\u001b[0m     \u001b[38;5;28;01mreturn\u001b[39;00m \u001b[43mdriver\u001b[49m\u001b[38;5;241;43m.\u001b[39;49m\u001b[43mfind_element\u001b[49m\u001b[43m(\u001b[49m\u001b[38;5;241;43m*\u001b[39;49m\u001b[43mlocator\u001b[49m\u001b[43m)\u001b[49m\n",
      "File \u001b[1;32m~\\anaconda3\\lib\\site-packages\\selenium\\webdriver\\remote\\webdriver.py:738\u001b[0m, in \u001b[0;36mWebDriver.find_element\u001b[1;34m(self, by, value)\u001b[0m\n\u001b[0;32m    735\u001b[0m     by \u001b[38;5;241m=\u001b[39m By\u001b[38;5;241m.\u001b[39mCSS_SELECTOR\n\u001b[0;32m    736\u001b[0m     value \u001b[38;5;241m=\u001b[39m \u001b[38;5;124mf\u001b[39m\u001b[38;5;124m'\u001b[39m\u001b[38;5;124m[name=\u001b[39m\u001b[38;5;124m\"\u001b[39m\u001b[38;5;132;01m{\u001b[39;00mvalue\u001b[38;5;132;01m}\u001b[39;00m\u001b[38;5;124m\"\u001b[39m\u001b[38;5;124m]\u001b[39m\u001b[38;5;124m'\u001b[39m\n\u001b[1;32m--> 738\u001b[0m \u001b[38;5;28;01mreturn\u001b[39;00m \u001b[38;5;28;43mself\u001b[39;49m\u001b[38;5;241;43m.\u001b[39;49m\u001b[43mexecute\u001b[49m\u001b[43m(\u001b[49m\u001b[43mCommand\u001b[49m\u001b[38;5;241;43m.\u001b[39;49m\u001b[43mFIND_ELEMENT\u001b[49m\u001b[43m,\u001b[49m\u001b[43m \u001b[49m\u001b[43m{\u001b[49m\u001b[38;5;124;43m\"\u001b[39;49m\u001b[38;5;124;43musing\u001b[39;49m\u001b[38;5;124;43m\"\u001b[39;49m\u001b[43m:\u001b[49m\u001b[43m \u001b[49m\u001b[43mby\u001b[49m\u001b[43m,\u001b[49m\u001b[43m \u001b[49m\u001b[38;5;124;43m\"\u001b[39;49m\u001b[38;5;124;43mvalue\u001b[39;49m\u001b[38;5;124;43m\"\u001b[39;49m\u001b[43m:\u001b[49m\u001b[43m \u001b[49m\u001b[43mvalue\u001b[49m\u001b[43m}\u001b[49m\u001b[43m)\u001b[49m[\u001b[38;5;124m\"\u001b[39m\u001b[38;5;124mvalue\u001b[39m\u001b[38;5;124m\"\u001b[39m]\n",
      "File \u001b[1;32m~\\anaconda3\\lib\\site-packages\\selenium\\webdriver\\remote\\webdriver.py:344\u001b[0m, in \u001b[0;36mWebDriver.execute\u001b[1;34m(self, driver_command, params)\u001b[0m\n\u001b[0;32m    342\u001b[0m response \u001b[38;5;241m=\u001b[39m \u001b[38;5;28mself\u001b[39m\u001b[38;5;241m.\u001b[39mcommand_executor\u001b[38;5;241m.\u001b[39mexecute(driver_command, params)\n\u001b[0;32m    343\u001b[0m \u001b[38;5;28;01mif\u001b[39;00m response:\n\u001b[1;32m--> 344\u001b[0m     \u001b[38;5;28;43mself\u001b[39;49m\u001b[38;5;241;43m.\u001b[39;49m\u001b[43merror_handler\u001b[49m\u001b[38;5;241;43m.\u001b[39;49m\u001b[43mcheck_response\u001b[49m\u001b[43m(\u001b[49m\u001b[43mresponse\u001b[49m\u001b[43m)\u001b[49m\n\u001b[0;32m    345\u001b[0m     response[\u001b[38;5;124m\"\u001b[39m\u001b[38;5;124mvalue\u001b[39m\u001b[38;5;124m\"\u001b[39m] \u001b[38;5;241m=\u001b[39m \u001b[38;5;28mself\u001b[39m\u001b[38;5;241m.\u001b[39m_unwrap_value(response\u001b[38;5;241m.\u001b[39mget(\u001b[38;5;124m\"\u001b[39m\u001b[38;5;124mvalue\u001b[39m\u001b[38;5;124m\"\u001b[39m, \u001b[38;5;28;01mNone\u001b[39;00m))\n\u001b[0;32m    346\u001b[0m     \u001b[38;5;28;01mreturn\u001b[39;00m response\n",
      "File \u001b[1;32m~\\anaconda3\\lib\\site-packages\\selenium\\webdriver\\remote\\errorhandler.py:229\u001b[0m, in \u001b[0;36mErrorHandler.check_response\u001b[1;34m(self, response)\u001b[0m\n\u001b[0;32m    227\u001b[0m         alert_text \u001b[38;5;241m=\u001b[39m value[\u001b[38;5;124m\"\u001b[39m\u001b[38;5;124malert\u001b[39m\u001b[38;5;124m\"\u001b[39m]\u001b[38;5;241m.\u001b[39mget(\u001b[38;5;124m\"\u001b[39m\u001b[38;5;124mtext\u001b[39m\u001b[38;5;124m\"\u001b[39m)\n\u001b[0;32m    228\u001b[0m     \u001b[38;5;28;01mraise\u001b[39;00m exception_class(message, screen, stacktrace, alert_text)  \u001b[38;5;66;03m# type: ignore[call-arg]  # mypy is not smart enough here\u001b[39;00m\n\u001b[1;32m--> 229\u001b[0m \u001b[38;5;28;01mraise\u001b[39;00m exception_class(message, screen, stacktrace)\n",
      "\u001b[1;31mWebDriverException\u001b[0m: Message: disconnected: not connected to DevTools\n  (failed to check if window was closed: disconnected: not connected to DevTools)\n  (Session info: chrome=118.0.5993.70)\nStacktrace:\n\tGetHandleVerifier [0x00007FF7B5D08EF2+54786]\n\t(No symbol) [0x00007FF7B5C75612]\n\t(No symbol) [0x00007FF7B5B2A64B]\n\t(No symbol) [0x00007FF7B5B18617]\n\t(No symbol) [0x00007FF7B5B18290]\n\t(No symbol) [0x00007FF7B5B2C541]\n\t(No symbol) [0x00007FF7B5BA43FF]\n\t(No symbol) [0x00007FF7B5B8BC43]\n\t(No symbol) [0x00007FF7B5B60941]\n\t(No symbol) [0x00007FF7B5B61B84]\n\tGetHandleVerifier [0x00007FF7B6057F52+3524194]\n\tGetHandleVerifier [0x00007FF7B60AD800+3874576]\n\tGetHandleVerifier [0x00007FF7B60A5D7F+3843215]\n\tGetHandleVerifier [0x00007FF7B5DA5086+694166]\n\t(No symbol) [0x00007FF7B5C80A88]\n\t(No symbol) [0x00007FF7B5C7CA94]\n\t(No symbol) [0x00007FF7B5C7CBC2]\n\t(No symbol) [0x00007FF7B5C6CC83]\n\tBaseThreadInitThunk [0x00007FFBA73C7344+20]\n\tRtlUserThreadStart [0x00007FFBA91826B1+33]\n"
     ]
    }
   ],
   "source": [
    "liste=['Abdoul Aziz Ndiaye']\n",
    "date='2023-09-21'\n",
    "chat=Takechats(liste,date)"
   ]
  },
  {
   "cell_type": "code",
   "execution_count": 9,
   "id": "fa7dc346",
   "metadata": {},
   "outputs": [],
   "source": [
    " def run_scraper(liste,date):  \n",
    "    (chats,chatimg)=Takechats(liste,date)\n",
    "    \n",
    "    # Création d'un dictionnaire 'data' contenant les données à exporter\n",
    "    data = {\n",
    "             'date': date_time,           # Date et heure de publication\n",
    "             'description': name,         # Nom ou description de l'élément\n",
    "             'nombre_chambre': chambre,   # Nombre de chambres\n",
    "             'localisation': local,       # Localisation de l'élément\n",
    "             'prix': prix,                # Prix de l'élément\n",
    "             'lien d\\'image': lienimg     # Lien vers l'image (chemin local)\n",
    "            }\n",
    "    # Création d'un DataFrame 'dt' à partir du dictionnaire 'data'\n",
    "    dt = pd.DataFrame(data)\n",
    "\n",
    "    # Exportation du DataFrame vers un fichier Excel ('appartement.xlsx')\n",
    "    dt.to_excel('whatsappchat.xlsx')"
   ]
  },
  {
   "cell_type": "code",
   "execution_count": null,
   "id": "badde2a7",
   "metadata": {},
   "outputs": [],
   "source": []
  }
 ],
 "metadata": {
  "kernelspec": {
   "display_name": "Python 3 (ipykernel)",
   "language": "python",
   "name": "python3"
  },
  "language_info": {
   "codemirror_mode": {
    "name": "ipython",
    "version": 3
   },
   "file_extension": ".py",
   "mimetype": "text/x-python",
   "name": "python",
   "nbconvert_exporter": "python",
   "pygments_lexer": "ipython3",
   "version": "3.9.12"
  }
 },
 "nbformat": 4,
 "nbformat_minor": 5
}
