{
 "cells": [
  {
   "cell_type": "code",
   "execution_count": 25,
   "id": "e41499a9",
   "metadata": {},
   "outputs": [],
   "source": [
    "import pandas as pd\n",
    "from selenium import webdriver\n",
    "from bs4 import BeautifulSoup as bs\n",
    "from selenium.webdriver.common.by import By\n",
    "from selenium.webdriver.support.ui import WebDriverWait\n",
    "from selenium.webdriver.support import expected_conditions as EC\n",
    "from time import sleep\n",
    "import os\n",
    "import requests\n",
    "import base64"
   ]
  },
  {
   "cell_type": "code",
   "execution_count": 105,
   "id": "a1a79eec",
   "metadata": {},
   "outputs": [],
   "source": [
    "def taketext_elements(chat):\n",
    "    chat=bs(chat.get_attribute('innerHTML'))\n",
    "    check_message = chat.find('span', class_='_11JPr selectable-text copyable-text')\n",
    "    check_infos = chat.find('div', class_='copyable-text')\n",
    "    \n",
    "    detaille=[]\n",
    "    message=[]\n",
    "    if check_message:\n",
    "        message.append(check_message.text)\n",
    "    if check_infos:\n",
    "        detaille.append(check_infos.get('data-pre-plain-text')) \n",
    "    return (detaille,message)"
   ]
  },
  {
   "cell_type": "code",
   "execution_count": 98,
   "id": "9a18c928",
   "metadata": {},
   "outputs": [],
   "source": [
    "def takeimg_elements(chat):\n",
    "    chat=bs(chat.get_attribute('innerHTML'))\n",
    "    check_image = chat.find_all('img')\n",
    "    check_infos = chat.find('div', class_='copyable-text')\n",
    "    image_link=[]\n",
    "    if check_infos:\n",
    "        detaille.append(check_infos.get('data-pre-plain-text')) \n",
    "    if check_image:\n",
    "        url=[]\n",
    "        for img in check_image:\n",
    "            url.append(img.get('src'))\n",
    "        enum=0\n",
    "        for link in url:\n",
    "            if link!=None:\n",
    "                try:\n",
    "                    driver.get(link)\n",
    "                    driver.save_screenshot(f'capture_ecran{enum}.png')\n",
    "                    driver.back()\n",
    "                    sleep(10)\n",
    "                    enum+=1\n",
    "                except requests.exceptions.RequestException as e:\n",
    "                    print(f\"Une erreur s'est produite: {e}\")               \n"
   ]
  },
  {
   "cell_type": "code",
   "execution_count": 108,
   "id": "7d7a3579",
   "metadata": {},
   "outputs": [],
   "source": [
    "def Takechats(liste,stopdate):\n",
    "    wait = WebDriverWait(driver, 100)\n",
    "    detailles=[]\n",
    "    messages=[]\n",
    "    image_links=[]\n",
    "    for name in liste:\n",
    "        arg = '//span[contains(@title, '+ '\"' +name + '\"'+ ')]'\n",
    "        title = wait.until(EC.presence_of_element_located((By.XPATH,arg))).click()\n",
    "        dates=[]\n",
    "        time=0\n",
    "        while stopdate not in dates:\n",
    "            chats = driver.find_elements(By.CLASS_NAME,\"cm280p3y.to2l77zo.n1yiu2zv.c6f98ldp.ooty25bp.oq31bsqd\")\n",
    "            chats1 = driver.find_elements(By.CLASS_NAME,\"message-in.focusable-list-item._1AOLJ._2UtSC.CzM4m._1jHIY\")\n",
    "            date=driver.find_elements(By.CLASS_NAME,'UzMP7.n6BPp')\n",
    "            driver.execute_script(\"arguments[0].scrollIntoView();\",date[0])\n",
    "            sleep(2)\n",
    "            for i in date:\n",
    "                try:\n",
    "                    dates.append(i.text)\n",
    "                except:\n",
    "                    dates.append('AN')\n",
    "                    continue\n",
    "\n",
    "        if chats:\n",
    "            for chat in chats:\n",
    "                (detaille,message)=taketext_elements(chat)\n",
    "                detailles.append(detaille)\n",
    "                messages.append(message)\n",
    "                \n",
    "#         if chats1:\n",
    "#             for chat in chats1:\n",
    "                \n",
    "        \n",
    "    return chats1"
   ]
  },
  {
   "cell_type": "code",
   "execution_count": 81,
   "id": "77f883c5",
   "metadata": {},
   "outputs": [],
   "source": [
    "driver = webdriver.Chrome()\n",
    "driver.get(\"https://web.whatsapp.com/\")"
   ]
  },
  {
   "cell_type": "code",
   "execution_count": 110,
   "id": "b1d387b1",
   "metadata": {},
   "outputs": [],
   "source": [
    "liste=['Abdoul Aziz Ndiaye']\n",
    "date='2023-09-21'\n",
    "chat=Takechats(liste,date)"
   ]
  },
  {
   "cell_type": "code",
   "execution_count": 113,
   "id": "af6709e9",
   "metadata": {
    "scrolled": true
   },
   "outputs": [
    {
     "ename": "AttributeError",
     "evalue": "'list' object has no attribute 'get_attribute'",
     "output_type": "error",
     "traceback": [
      "\u001b[1;31m---------------------------------------------------------------------------\u001b[0m",
      "\u001b[1;31mAttributeError\u001b[0m                            Traceback (most recent call last)",
      "Input \u001b[1;32mIn [113]\u001b[0m, in \u001b[0;36m<cell line: 1>\u001b[1;34m()\u001b[0m\n\u001b[1;32m----> 1\u001b[0m \u001b[43mchat\u001b[49m\u001b[38;5;241;43m.\u001b[39;49m\u001b[43mget_attribute\u001b[49m(\u001b[38;5;124m'\u001b[39m\u001b[38;5;124minnerHTML\u001b[39m\u001b[38;5;124m'\u001b[39m)\n",
      "\u001b[1;31mAttributeError\u001b[0m: 'list' object has no attribute 'get_attribute'"
     ]
    }
   ],
   "source": [
    "chat.get_attribute('innerHTML')"
   ]
  },
  {
   "cell_type": "code",
   "execution_count": 9,
   "id": "fa7dc346",
   "metadata": {},
   "outputs": [],
   "source": [
    " def run_scraper(liste,date):  \n",
    "    (chats,chatimg)=Takechats(liste,date)\n",
    "    \n",
    "    # Création d'un dictionnaire 'data' contenant les données à exporter\n",
    "    data = {\n",
    "             'date': date_time,           # Date et heure de publication\n",
    "             'description': name,         # Nom ou description de l'élément\n",
    "             'nombre_chambre': chambre,   # Nombre de chambres\n",
    "             'localisation': local,       # Localisation de l'élément\n",
    "             'prix': prix,                # Prix de l'élément\n",
    "             'lien d\\'image': lienimg     # Lien vers l'image (chemin local)\n",
    "            }\n",
    "    # Création d'un DataFrame 'dt' à partir du dictionnaire 'data'\n",
    "    dt = pd.DataFrame(data)\n",
    "\n",
    "    # Exportation du DataFrame vers un fichier Excel ('appartement.xlsx')\n",
    "    dt.to_excel('whatsappchat.xlsx')"
   ]
  }
 ],
 "metadata": {
  "kernelspec": {
   "display_name": "Python 3 (ipykernel)",
   "language": "python",
   "name": "python3"
  },
  "language_info": {
   "codemirror_mode": {
    "name": "ipython",
    "version": 3
   },
   "file_extension": ".py",
   "mimetype": "text/x-python",
   "name": "python",
   "nbconvert_exporter": "python",
   "pygments_lexer": "ipython3",
   "version": "3.9.12"
  }
 },
 "nbformat": 4,
 "nbformat_minor": 5
}
