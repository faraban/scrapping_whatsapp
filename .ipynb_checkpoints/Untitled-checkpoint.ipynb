{
 "cells": [
  {
   "cell_type": "code",
   "execution_count": 1,
   "id": "e41499a9",
   "metadata": {},
   "outputs": [],
   "source": [
    "import time, csv\n",
    "from time import sleep\n",
    "import os\n",
    "from bs4 import BeautifulSoup\n",
    "import pandas as pd"
   ]
  },
  {
   "cell_type": "code",
   "execution_count": 2,
   "id": "010504e1",
   "metadata": {},
   "outputs": [],
   "source": [
    "from selenium import webdriver\n",
    "from selenium.webdriver.support.ui import WebDriverWait\n",
    "from selenium.webdriver.support import expected_conditions as EC\n",
    "from selenium.webdriver.common.keys import Keys\n",
    "from selenium.webdriver.common.by import By"
   ]
  },
  {
   "cell_type": "code",
   "execution_count": 26,
   "id": "77f883c5",
   "metadata": {},
   "outputs": [],
   "source": [
    "driver = webdriver.Chrome()\n",
    "driver.get(\"https://web.whatsapp.com/\")"
   ]
  },
  {
   "cell_type": "code",
   "execution_count": 4,
   "id": "a1a79eec",
   "metadata": {},
   "outputs": [],
   "source": [
    "def chat_element(chat):\n",
    "    \n",
    "    message_type = \"\"\n",
    "    chat_text = \"\"\n",
    "    \n",
    "    check_image = chat.find('div', class_='_3v3PK')\n",
    "    check_video = chat.find('div', class_='_1opHa video-thumb')\n",
    "    check_deleted_msg = chat.find('div', class_='_1fkCN')\n",
    "    check_document = chat.find('a', class_='_1vKRe')\n",
    "    check_waiting_message = chat.find('div', class_='_3zb-j ZhF0n _18dOq')\n",
    "    check_whatsapp_audio_1 = chat.find('div', class_='_3_7SH _17oKL message-in')\n",
    "    check_whatsapp_audio_2 = chat.find('div', class_='_3_7SH _17oKL message-in tail')\n",
    "    check_sound_clip_1 = chat.find('div', class_='_3_7SH _1gqYh message-in')\n",
    "    check_sound_clip_2 = chat.find('div', class_='_3_7SH _1gqYh message-in tail')\n",
    "    check_gif = chat.find('span', {'data-icon':'media-gif'})\n",
    "\n",
    "    if check_video:\n",
    "        message_type = \"video\"\n",
    "    elif check_image:\n",
    "        message_type = \"image\"\n",
    "        try:\n",
    "            chat_text = chat.find('span', class_='selectable-text invisible-space copyable-text').text\n",
    "        except:\n",
    "            chat_text = \"\"\n",
    "    elif check_deleted_msg:\n",
    "        message_type = \"deleted_message\"\n",
    "    elif check_document:\n",
    "        message_type = \"document\"\n",
    "    elif check_waiting_message:\n",
    "        chat_text = check_waiting_message.text\n",
    "    elif check_whatsapp_audio_1 or check_whatsapp_audio_2:\n",
    "        message_type = 'whatsapp_audio'\n",
    "    elif check_sound_clip_1 or check_sound_clip_2:\n",
    "        message_type = 'sound_clip'\n",
    "    elif check_gif:\n",
    "        message_type = 'gif'\n",
    "    else:\n",
    "        message_type = \"text\"\n",
    "        try:\n",
    "            chat_text = chat.find('div', class_='copyable-text').text\n",
    "        except:\n",
    "            print (\"error: \", chat, \"\\n\\n\\n\")\n",
    "            return chat\n",
    "\n",
    "    try:\n",
    "        sender_number = chat.find('span', class_=\"RZ7GO\").text\n",
    "    except:\n",
    "        sender_number = \"NA\"\n",
    "    try:\n",
    "        chat_time = chat.find('span', class_='_3EFt_').text\n",
    "    except:\n",
    "        chat_time = \"NA\"\n",
    "    try:\n",
    "        chat_datetime = chat.find('div', class_='copyable-text')['data-pre-plain-text']\n",
    "    except:\n",
    "        chat_datetime = \"NA\"\n",
    "    try:\n",
    "        chat_msg = chat.find('div', class_='_3zb-j ZhF0n').text\n",
    "    except:\n",
    "        chat_msg = \"NA\"\n",
    "    try:\n",
    "        sender_name = chat.find('span', class_='_3Ye_R _1wjpf _1OmDL').text\n",
    "    except:\n",
    "        sender_name = \"NA\"\n",
    "    try:\n",
    "        #urls = list(set(re.findall('https?://(?:[-\\w.]|(?:%[\\da-fA-F]{2}))+', str(chat))))\n",
    "        urls = list(set([a['href'] for a in chat.find_all('a')]))\n",
    "    except:\n",
    "        print (\"urls extraction issue\")\n",
    "        urls = []\n",
    "    return [chat.encode('utf-8'), message_type, unicode(chat_text).encode('utf-8'), sender_number, chat_time, chat_datetime, sender_name.encode('utf-8'), str(urls)]\n"
   ]
  },
  {
   "cell_type": "code",
   "execution_count": 22,
   "id": "7d7a3579",
   "metadata": {},
   "outputs": [],
   "source": [
    "def scroll_to_top(liste,stopdate):\n",
    "    \n",
    "    for name in liste:\n",
    "        arg = '//span[contains(@title, '+ '\"' +name+ '\"' + ')]'\n",
    "        title = driver.find_element(By.XPATH, arg).click()\n",
    "        dates=[]\n",
    "        while stopdate not in dates:\n",
    "            \n",
    "            chats = driver.find_elements(By.CLASS_NAME,\"_21Ahp\")\n",
    "            date=driver.find_elements(By.CLASS_NAME,'UzMP7.n6BPp')\n",
    "            print(len(chats))\n",
    "            driver.execute_script(\"arguments[0].scrollIntoView();\",date[0])\n",
    "            time.sleep(2)\n",
    "            \n",
    "            for i in date:\n",
    "                try:\n",
    "                    dates.append(i.text)\n",
    "                except:\n",
    "                    dates.append('AN')\n",
    "                    continue\n",
    "    return dates"
   ]
  },
  {
   "cell_type": "code",
   "execution_count": 27,
   "id": "b1d387b1",
   "metadata": {},
   "outputs": [
    {
     "ename": "WebDriverException",
     "evalue": "Message: disconnected: not connected to DevTools\n  (failed to check if window was closed: disconnected: not connected to DevTools)\n  (Session info: chrome=117.0.5938.150)\nStacktrace:\n\tGetHandleVerifier [0x00007FF6836B7D12+55474]\n\t(No symbol) [0x00007FF6836277C2]\n\t(No symbol) [0x00007FF6834DE0EB]\n\t(No symbol) [0x00007FF6834CC0D7]\n\t(No symbol) [0x00007FF6834CBD50]\n\t(No symbol) [0x00007FF6834DFFE1]\n\t(No symbol) [0x00007FF6835575EF]\n\t(No symbol) [0x00007FF68353EF33]\n\t(No symbol) [0x00007FF683513D41]\n\t(No symbol) [0x00007FF683514F84]\n\tGetHandleVerifier [0x00007FF683A1B762+3609346]\n\tGetHandleVerifier [0x00007FF683A71A80+3962400]\n\tGetHandleVerifier [0x00007FF683A69F0F+3930799]\n\tGetHandleVerifier [0x00007FF683753CA6+694342]\n\t(No symbol) [0x00007FF683632218]\n\t(No symbol) [0x00007FF68362E484]\n\t(No symbol) [0x00007FF68362E5B2]\n\t(No symbol) [0x00007FF68361EE13]\n\tBaseThreadInitThunk [0x00007FFA750C7344+20]\n\tRtlUserThreadStart [0x00007FFA759E26B1+33]\n",
     "output_type": "error",
     "traceback": [
      "\u001b[1;31m---------------------------------------------------------------------------\u001b[0m",
      "\u001b[1;31mWebDriverException\u001b[0m                        Traceback (most recent call last)",
      "Input \u001b[1;32mIn [27]\u001b[0m, in \u001b[0;36m<cell line: 3>\u001b[1;34m()\u001b[0m\n\u001b[0;32m      1\u001b[0m liste\u001b[38;5;241m=\u001b[39m[\u001b[38;5;124m\"\u001b[39m\u001b[38;5;124mAbdoul Aziz Ndiaye\u001b[39m\u001b[38;5;124m\"\u001b[39m]\n\u001b[0;32m      2\u001b[0m date\u001b[38;5;241m=\u001b[39m\u001b[38;5;124m'\u001b[39m\u001b[38;5;124m2023-09-21\u001b[39m\u001b[38;5;124m'\u001b[39m\n\u001b[1;32m----> 3\u001b[0m \u001b[43mscroll_to_top\u001b[49m\u001b[43m(\u001b[49m\u001b[43mliste\u001b[49m\u001b[43m,\u001b[49m\u001b[43mdate\u001b[49m\u001b[43m)\u001b[49m\n",
      "Input \u001b[1;32mIn [22]\u001b[0m, in \u001b[0;36mscroll_to_top\u001b[1;34m(liste, stopdate)\u001b[0m\n\u001b[0;32m      3\u001b[0m \u001b[38;5;28;01mfor\u001b[39;00m name \u001b[38;5;129;01min\u001b[39;00m liste:\n\u001b[0;32m      4\u001b[0m     arg \u001b[38;5;241m=\u001b[39m \u001b[38;5;124m'\u001b[39m\u001b[38;5;124m//span[contains(@title, \u001b[39m\u001b[38;5;124m'\u001b[39m\u001b[38;5;241m+\u001b[39m\u001b[38;5;124m'\u001b[39m\u001b[38;5;124m\"\u001b[39m\u001b[38;5;124m'\u001b[39m\u001b[38;5;241m+\u001b[39mname\u001b[38;5;241m+\u001b[39m\u001b[38;5;124m'\u001b[39m\u001b[38;5;124m\"\u001b[39m\u001b[38;5;124m'\u001b[39m\u001b[38;5;241m+\u001b[39m\u001b[38;5;124m'\u001b[39m\u001b[38;5;124m)]\u001b[39m\u001b[38;5;124m'\u001b[39m\n\u001b[1;32m----> 5\u001b[0m     title \u001b[38;5;241m=\u001b[39m \u001b[43mdriver\u001b[49m\u001b[38;5;241;43m.\u001b[39;49m\u001b[43mfind_element\u001b[49m\u001b[43m(\u001b[49m\u001b[43mBy\u001b[49m\u001b[38;5;241;43m.\u001b[39;49m\u001b[43mXPATH\u001b[49m\u001b[43m,\u001b[49m\u001b[43m \u001b[49m\u001b[43marg\u001b[49m\u001b[43m)\u001b[49m\u001b[38;5;241m.\u001b[39mclick()\n\u001b[0;32m      6\u001b[0m     dates\u001b[38;5;241m=\u001b[39m[]\n\u001b[0;32m      7\u001b[0m     \u001b[38;5;28;01mwhile\u001b[39;00m stopdate \u001b[38;5;129;01mnot\u001b[39;00m \u001b[38;5;129;01min\u001b[39;00m dates:\n",
      "File \u001b[1;32m~\\anaconda3\\lib\\site-packages\\selenium\\webdriver\\remote\\webdriver.py:738\u001b[0m, in \u001b[0;36mWebDriver.find_element\u001b[1;34m(self, by, value)\u001b[0m\n\u001b[0;32m    735\u001b[0m     by \u001b[38;5;241m=\u001b[39m By\u001b[38;5;241m.\u001b[39mCSS_SELECTOR\n\u001b[0;32m    736\u001b[0m     value \u001b[38;5;241m=\u001b[39m \u001b[38;5;124mf\u001b[39m\u001b[38;5;124m'\u001b[39m\u001b[38;5;124m[name=\u001b[39m\u001b[38;5;124m\"\u001b[39m\u001b[38;5;132;01m{\u001b[39;00mvalue\u001b[38;5;132;01m}\u001b[39;00m\u001b[38;5;124m\"\u001b[39m\u001b[38;5;124m]\u001b[39m\u001b[38;5;124m'\u001b[39m\n\u001b[1;32m--> 738\u001b[0m \u001b[38;5;28;01mreturn\u001b[39;00m \u001b[38;5;28;43mself\u001b[39;49m\u001b[38;5;241;43m.\u001b[39;49m\u001b[43mexecute\u001b[49m\u001b[43m(\u001b[49m\u001b[43mCommand\u001b[49m\u001b[38;5;241;43m.\u001b[39;49m\u001b[43mFIND_ELEMENT\u001b[49m\u001b[43m,\u001b[49m\u001b[43m \u001b[49m\u001b[43m{\u001b[49m\u001b[38;5;124;43m\"\u001b[39;49m\u001b[38;5;124;43musing\u001b[39;49m\u001b[38;5;124;43m\"\u001b[39;49m\u001b[43m:\u001b[49m\u001b[43m \u001b[49m\u001b[43mby\u001b[49m\u001b[43m,\u001b[49m\u001b[43m \u001b[49m\u001b[38;5;124;43m\"\u001b[39;49m\u001b[38;5;124;43mvalue\u001b[39;49m\u001b[38;5;124;43m\"\u001b[39;49m\u001b[43m:\u001b[49m\u001b[43m \u001b[49m\u001b[43mvalue\u001b[49m\u001b[43m}\u001b[49m\u001b[43m)\u001b[49m[\u001b[38;5;124m\"\u001b[39m\u001b[38;5;124mvalue\u001b[39m\u001b[38;5;124m\"\u001b[39m]\n",
      "File \u001b[1;32m~\\anaconda3\\lib\\site-packages\\selenium\\webdriver\\remote\\webdriver.py:344\u001b[0m, in \u001b[0;36mWebDriver.execute\u001b[1;34m(self, driver_command, params)\u001b[0m\n\u001b[0;32m    342\u001b[0m response \u001b[38;5;241m=\u001b[39m \u001b[38;5;28mself\u001b[39m\u001b[38;5;241m.\u001b[39mcommand_executor\u001b[38;5;241m.\u001b[39mexecute(driver_command, params)\n\u001b[0;32m    343\u001b[0m \u001b[38;5;28;01mif\u001b[39;00m response:\n\u001b[1;32m--> 344\u001b[0m     \u001b[38;5;28;43mself\u001b[39;49m\u001b[38;5;241;43m.\u001b[39;49m\u001b[43merror_handler\u001b[49m\u001b[38;5;241;43m.\u001b[39;49m\u001b[43mcheck_response\u001b[49m\u001b[43m(\u001b[49m\u001b[43mresponse\u001b[49m\u001b[43m)\u001b[49m\n\u001b[0;32m    345\u001b[0m     response[\u001b[38;5;124m\"\u001b[39m\u001b[38;5;124mvalue\u001b[39m\u001b[38;5;124m\"\u001b[39m] \u001b[38;5;241m=\u001b[39m \u001b[38;5;28mself\u001b[39m\u001b[38;5;241m.\u001b[39m_unwrap_value(response\u001b[38;5;241m.\u001b[39mget(\u001b[38;5;124m\"\u001b[39m\u001b[38;5;124mvalue\u001b[39m\u001b[38;5;124m\"\u001b[39m, \u001b[38;5;28;01mNone\u001b[39;00m))\n\u001b[0;32m    346\u001b[0m     \u001b[38;5;28;01mreturn\u001b[39;00m response\n",
      "File \u001b[1;32m~\\anaconda3\\lib\\site-packages\\selenium\\webdriver\\remote\\errorhandler.py:229\u001b[0m, in \u001b[0;36mErrorHandler.check_response\u001b[1;34m(self, response)\u001b[0m\n\u001b[0;32m    227\u001b[0m         alert_text \u001b[38;5;241m=\u001b[39m value[\u001b[38;5;124m\"\u001b[39m\u001b[38;5;124malert\u001b[39m\u001b[38;5;124m\"\u001b[39m]\u001b[38;5;241m.\u001b[39mget(\u001b[38;5;124m\"\u001b[39m\u001b[38;5;124mtext\u001b[39m\u001b[38;5;124m\"\u001b[39m)\n\u001b[0;32m    228\u001b[0m     \u001b[38;5;28;01mraise\u001b[39;00m exception_class(message, screen, stacktrace, alert_text)  \u001b[38;5;66;03m# type: ignore[call-arg]  # mypy is not smart enough here\u001b[39;00m\n\u001b[1;32m--> 229\u001b[0m \u001b[38;5;28;01mraise\u001b[39;00m exception_class(message, screen, stacktrace)\n",
      "\u001b[1;31mWebDriverException\u001b[0m: Message: disconnected: not connected to DevTools\n  (failed to check if window was closed: disconnected: not connected to DevTools)\n  (Session info: chrome=117.0.5938.150)\nStacktrace:\n\tGetHandleVerifier [0x00007FF6836B7D12+55474]\n\t(No symbol) [0x00007FF6836277C2]\n\t(No symbol) [0x00007FF6834DE0EB]\n\t(No symbol) [0x00007FF6834CC0D7]\n\t(No symbol) [0x00007FF6834CBD50]\n\t(No symbol) [0x00007FF6834DFFE1]\n\t(No symbol) [0x00007FF6835575EF]\n\t(No symbol) [0x00007FF68353EF33]\n\t(No symbol) [0x00007FF683513D41]\n\t(No symbol) [0x00007FF683514F84]\n\tGetHandleVerifier [0x00007FF683A1B762+3609346]\n\tGetHandleVerifier [0x00007FF683A71A80+3962400]\n\tGetHandleVerifier [0x00007FF683A69F0F+3930799]\n\tGetHandleVerifier [0x00007FF683753CA6+694342]\n\t(No symbol) [0x00007FF683632218]\n\t(No symbol) [0x00007FF68362E484]\n\t(No symbol) [0x00007FF68362E5B2]\n\t(No symbol) [0x00007FF68361EE13]\n\tBaseThreadInitThunk [0x00007FFA750C7344+20]\n\tRtlUserThreadStart [0x00007FFA759E26B1+33]\n"
     ]
    }
   ],
   "source": [
    "liste=[\"Abdoul Aziz Ndiaye\"]\n",
    "date='2023-09-21'\n",
    "scroll_to_top(liste,date)"
   ]
  },
  {
   "cell_type": "code",
   "execution_count": 9,
   "id": "fa7dc346",
   "metadata": {},
   "outputs": [],
   "source": [
    "def run_scraper():\n",
    "\n",
    "    message_window = driver.find_element(By.ID,'main')\n",
    "    data = message_window.get_attribute('innerHTML')\n",
    "\n",
    "    soup = BeautifulSoup(data)\n",
    "    chats = soup.find_all('div', class_='vW7d1')\n",
    "    print (\"chats...\", len(chats))\n",
    "    \n",
    "    #get group details\n",
    "    group_name =  BeautifulSoup(driver.find_element(By.XPATH,'//*[@id=\"main\"]/header/div[2]/div[1]/div').get_attribute('innerHTML')).find('span')['title']\n",
    "    \n",
    "    #open_group_details\n",
    "    driver.find_element(By.CLASS_NAME,'_1WBXd').click()\n",
    "    group_created_at = driver.find_element(By.CLASS_NAME,'Cpiae').get_attribute('innerHTML')\n",
    "    driver.find_element(By.XPATH,'//*[@id=\"app\"]/div/div/div[1]/div[3]/span/div/span/div/header/div/div[1]/button/span').click()\n",
    "\n",
    "    group_details = [group_name.encode('utf-8'), group_created_at, group_id]\n",
    "    print (group_details)\n",
    "\n",
    "    group_data.append(group_details)\n",
    "    output_to_csv(group_data, 'group_details.csv')\n",
    "\n",
    "    #process chat data\n",
    "    chat_data = []\n",
    "    for i in chats:\n",
    "        parsed_chat = process_chat(i)\n",
    "        chat_data.append([group_id, group_name.encode('utf-8'),group_created_at] + parsed_chat)"
   ]
  },
  {
   "cell_type": "code",
   "execution_count": null,
   "id": "6492e0d7",
   "metadata": {},
   "outputs": [],
   "source": []
  }
 ],
 "metadata": {
  "kernelspec": {
   "display_name": "Python 3 (ipykernel)",
   "language": "python",
   "name": "python3"
  },
  "language_info": {
   "codemirror_mode": {
    "name": "ipython",
    "version": 3
   },
   "file_extension": ".py",
   "mimetype": "text/x-python",
   "name": "python",
   "nbconvert_exporter": "python",
   "pygments_lexer": "ipython3",
   "version": "3.9.12"
  }
 },
 "nbformat": 4,
 "nbformat_minor": 5
}
