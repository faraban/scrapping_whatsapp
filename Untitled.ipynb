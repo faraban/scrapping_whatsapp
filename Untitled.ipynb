{
 "cells": [
  {
   "cell_type": "code",
   "execution_count": 29,
   "id": "e41499a9",
   "metadata": {},
   "outputs": [],
   "source": [
    "import time, csv\n",
    "from time import sleep\n",
    "import os\n",
    "from bs4 import BeautifulSoup as bs\n",
    "import pandas as pd"
   ]
  },
  {
   "cell_type": "code",
   "execution_count": 2,
   "id": "010504e1",
   "metadata": {},
   "outputs": [],
   "source": [
    "from selenium import webdriver\n",
    "from selenium.webdriver.support.ui import WebDriverWait\n",
    "from selenium.webdriver.support import expected_conditions as EC\n",
    "from selenium.webdriver.common.keys import Keys\n",
    "from selenium.webdriver.common.by import By"
   ]
  },
  {
   "cell_type": "code",
   "execution_count": 3,
   "id": "77f883c5",
   "metadata": {},
   "outputs": [],
   "source": [
    "# driver = webdriver.Chrome()\n",
    "# driver.get(\"https://web.whatsapp.com/\")"
   ]
  },
  {
   "cell_type": "code",
   "execution_count": 33,
   "id": "a1a79eec",
   "metadata": {},
   "outputs": [],
   "source": [
    "def chat_element(chat):\n",
    "    message_type = \"\"\n",
    "    chat_text = \"\"\n",
    "    \n",
    "    check_image = chat.find('div', class_='_3v3PK')\n",
    "    check_video = chat.find('div', class_='_1opHa video-thumb')\n",
    "    check_deleted_msg = chat.find('div', class_='_1fkCN')\n",
    "    check_document = chat.find('a', class_='_1vKRe')\n",
    "    check_waiting_message = chat.find('div', class_='_3zb-j ZhF0n _18dOq')\n",
    "    check_whatsapp_audio_1 = chat.find('div', class_='_3_7SH _17oKL message-in')\n",
    "    check_whatsapp_audio_2 = chat.find('div', class_='_3_7SH _17oKL message-in tail')\n",
    "    check_sound_clip_1 = chat.find('div', class_='_3_7SH _1gqYh message-in')\n",
    "    check_sound_clip_2 = chat.find('div', class_='_3_7SH _1gqYh message-in tail')\n",
    "    check_gif = chat.find('span', {'data-icon':'media-gif'})\n",
    "\n",
    "    if check_video:\n",
    "        message_type = \"video\"\n",
    "    elif check_image:\n",
    "        message_type = \"image\"\n",
    "        try:\n",
    "            chat_text = chat.find('span', class_='selectable-text invisible-space copyable-text').text\n",
    "        except:\n",
    "            chat_text = \"\"\n",
    "    elif check_deleted_msg:\n",
    "        message_type = \"deleted_message\"\n",
    "    elif check_document:\n",
    "        message_type = \"document\"\n",
    "    elif check_waiting_message:\n",
    "        chat_text = check_waiting_message.text\n",
    "    elif check_whatsapp_audio_1 or check_whatsapp_audio_2:\n",
    "        message_type = 'whatsapp_audio'\n",
    "    elif check_sound_clip_1 or check_sound_clip_2:\n",
    "        message_type = 'sound_clip'\n",
    "    elif check_gif:\n",
    "        message_type = 'gif'\n",
    "    else:\n",
    "        message_type = \"text\"\n",
    "        try:\n",
    "            chat_text = chat.find('div', class_='copyable-text').text\n",
    "        except:\n",
    "            print (\"error: \", chat, \"\\n\\n\\n\")\n",
    "            return chat\n",
    "\n",
    "    try:\n",
    "        sender_number = chat.find('span', class_=\"RZ7GO\").text\n",
    "    except:\n",
    "        sender_number = \"NA\"\n",
    "    try:\n",
    "        chat_time = chat.find('span', class_='_3EFt_').text\n",
    "    except:\n",
    "        chat_time = \"NA\"\n",
    "    try:\n",
    "        chat_datetime = chat.find('div', class_='copyable-text')['data-pre-plain-text']\n",
    "    except:\n",
    "        chat_datetime = \"NA\"\n",
    "    try:\n",
    "        chat_msg = chat.find('div', class_='_3zb-j ZhF0n').text\n",
    "    except:\n",
    "        chat_msg = \"NA\"\n",
    "    try:\n",
    "        sender_name = chat.find('span', class_='_3Ye_R _1wjpf _1OmDL').text\n",
    "    except:\n",
    "        sender_name = \"NA\"\n",
    "    try:\n",
    "        #urls = list(set(re.findall('https?://(?:[-\\w.]|(?:%[\\da-fA-F]{2}))+', str(chat))))\n",
    "        urls = list(set([a['href'] for a in chat.find_all('a')]))\n",
    "    except:\n",
    "        print (\"urls extraction issue\")\n",
    "        urls = []\n",
    "    return [chat.encode('utf-8'), message_type, unicode(chat_text).encode('utf-8'), sender_number, chat_time, chat_datetime, sender_name.encode('utf-8'), str(urls)]\n"
   ]
  },
  {
   "cell_type": "code",
   "execution_count": 22,
   "id": "7d7a3579",
   "metadata": {},
   "outputs": [],
   "source": [
    "def Takechats(liste,stopdate):\n",
    "    wait = WebDriverWait(driver, 100)\n",
    "    for name in liste:\n",
    "        arg = '//span[contains(@title, '+ '\"' +name + '\"'+ ')]'\n",
    "        title = wait.until(EC.presence_of_element_located((By.XPATH,arg))).click()\n",
    "        dates=[]\n",
    "        time=0\n",
    "        while stopdate not in dates:\n",
    "            chats = driver.find_elements(By.CLASS_NAME,\"_21Ahp\")\n",
    "            date=driver.find_elements(By.CLASS_NAME,'UzMP7.n6BPp')\n",
    "            driver.execute_script(\"arguments[0].scrollIntoView();\",date[0])\n",
    "            time.sleep(2)\n",
    "            \n",
    "            for i in date:\n",
    "                try:\n",
    "                    dates.append(i.text)\n",
    "                except:\n",
    "                    dates.append('AN')\n",
    "                    continue\n",
    "    return chats"
   ]
  },
  {
   "cell_type": "code",
   "execution_count": 25,
   "id": "b1d387b1",
   "metadata": {},
   "outputs": [],
   "source": [
    "# liste=['CLOUD AWS C1 by SIMPLON']\n",
    "# date='2023-09-21'\n",
    "# chats=scroll_to_top(liste,date)"
   ]
  },
  {
   "cell_type": "code",
   "execution_count": 34,
   "id": "6696935b",
   "metadata": {},
   "outputs": [
    {
     "ename": "AttributeError",
     "evalue": "'list' object has no attribute 'startswith'",
     "output_type": "error",
     "traceback": [
      "\u001b[1;31m---------------------------------------------------------------------------\u001b[0m",
      "\u001b[1;31mAttributeError\u001b[0m                            Traceback (most recent call last)",
      "Input \u001b[1;32mIn [34]\u001b[0m, in \u001b[0;36m<cell line: 1>\u001b[1;34m()\u001b[0m\n\u001b[1;32m----> 1\u001b[0m chat\u001b[38;5;241m=\u001b[39m\u001b[43mbs\u001b[49m\u001b[43m(\u001b[49m\u001b[43mchats\u001b[49m\u001b[43m)\u001b[49m\n\u001b[0;32m      2\u001b[0m \u001b[38;5;28;01mfor\u001b[39;00m i \u001b[38;5;129;01min\u001b[39;00m chat:\n\u001b[0;32m      3\u001b[0m     chat_element(i)\n",
      "File \u001b[1;32m~\\anaconda3\\lib\\site-packages\\bs4\\__init__.py:326\u001b[0m, in \u001b[0;36mBeautifulSoup.__init__\u001b[1;34m(self, markup, features, builder, parse_only, from_encoding, exclude_encodings, element_classes, **kwargs)\u001b[0m\n\u001b[0;32m    324\u001b[0m rejections \u001b[38;5;241m=\u001b[39m []\n\u001b[0;32m    325\u001b[0m success \u001b[38;5;241m=\u001b[39m \u001b[38;5;28;01mFalse\u001b[39;00m\n\u001b[1;32m--> 326\u001b[0m \u001b[38;5;28;01mfor\u001b[39;00m (\u001b[38;5;28mself\u001b[39m\u001b[38;5;241m.\u001b[39mmarkup, \u001b[38;5;28mself\u001b[39m\u001b[38;5;241m.\u001b[39moriginal_encoding, \u001b[38;5;28mself\u001b[39m\u001b[38;5;241m.\u001b[39mdeclared_html_encoding,\n\u001b[0;32m    327\u001b[0m  \u001b[38;5;28mself\u001b[39m\u001b[38;5;241m.\u001b[39mcontains_replacement_characters) \u001b[38;5;129;01min\u001b[39;00m (\n\u001b[0;32m    328\u001b[0m      \u001b[38;5;28mself\u001b[39m\u001b[38;5;241m.\u001b[39mbuilder\u001b[38;5;241m.\u001b[39mprepare_markup(\n\u001b[0;32m    329\u001b[0m          markup, from_encoding, exclude_encodings\u001b[38;5;241m=\u001b[39mexclude_encodings)):\n\u001b[0;32m    330\u001b[0m     \u001b[38;5;28mself\u001b[39m\u001b[38;5;241m.\u001b[39mreset()\n\u001b[0;32m    331\u001b[0m     \u001b[38;5;28mself\u001b[39m\u001b[38;5;241m.\u001b[39mbuilder\u001b[38;5;241m.\u001b[39minitialize_soup(\u001b[38;5;28mself\u001b[39m)\n",
      "File \u001b[1;32m~\\anaconda3\\lib\\site-packages\\bs4\\builder\\_lxml.py:182\u001b[0m, in \u001b[0;36mLXMLTreeBuilderForXML.prepare_markup\u001b[1;34m(self, markup, user_specified_encoding, exclude_encodings, document_declared_encoding)\u001b[0m\n\u001b[0;32m    179\u001b[0m     \u001b[38;5;28mself\u001b[39m\u001b[38;5;241m.\u001b[39mprocessing_instruction_class \u001b[38;5;241m=\u001b[39m ProcessingInstruction\n\u001b[0;32m    180\u001b[0m     \u001b[38;5;66;03m# We're in HTML mode, so if we're given XML, that's worth\u001b[39;00m\n\u001b[0;32m    181\u001b[0m     \u001b[38;5;66;03m# noting.\u001b[39;00m\n\u001b[1;32m--> 182\u001b[0m     \u001b[43mDetectsXMLParsedAsHTML\u001b[49m\u001b[38;5;241;43m.\u001b[39;49m\u001b[43mwarn_if_markup_looks_like_xml\u001b[49m\u001b[43m(\u001b[49m\u001b[43mmarkup\u001b[49m\u001b[43m)\u001b[49m\n\u001b[0;32m    183\u001b[0m \u001b[38;5;28;01melse\u001b[39;00m:\n\u001b[0;32m    184\u001b[0m     \u001b[38;5;28mself\u001b[39m\u001b[38;5;241m.\u001b[39mprocessing_instruction_class \u001b[38;5;241m=\u001b[39m XMLProcessingInstruction\n",
      "File \u001b[1;32m~\\anaconda3\\lib\\site-packages\\bs4\\builder\\__init__.py:535\u001b[0m, in \u001b[0;36mDetectsXMLParsedAsHTML.warn_if_markup_looks_like_xml\u001b[1;34m(cls, markup)\u001b[0m\n\u001b[0;32m    531\u001b[0m     prefix \u001b[38;5;241m=\u001b[39m \u001b[38;5;28mcls\u001b[39m\u001b[38;5;241m.\u001b[39mXML_PREFIX\n\u001b[0;32m    532\u001b[0m     looks_like_html \u001b[38;5;241m=\u001b[39m \u001b[38;5;28mcls\u001b[39m\u001b[38;5;241m.\u001b[39mLOOKS_LIKE_HTML\n\u001b[0;32m    534\u001b[0m \u001b[38;5;28;01mif\u001b[39;00m (markup \u001b[38;5;129;01mis\u001b[39;00m \u001b[38;5;129;01mnot\u001b[39;00m \u001b[38;5;28;01mNone\u001b[39;00m\n\u001b[1;32m--> 535\u001b[0m     \u001b[38;5;129;01mand\u001b[39;00m \u001b[43mmarkup\u001b[49m\u001b[38;5;241;43m.\u001b[39;49m\u001b[43mstartswith\u001b[49m(prefix)\n\u001b[0;32m    536\u001b[0m     \u001b[38;5;129;01mand\u001b[39;00m \u001b[38;5;129;01mnot\u001b[39;00m looks_like_html\u001b[38;5;241m.\u001b[39msearch(markup[:\u001b[38;5;241m500\u001b[39m])\n\u001b[0;32m    537\u001b[0m ):\n\u001b[0;32m    538\u001b[0m     \u001b[38;5;28mcls\u001b[39m\u001b[38;5;241m.\u001b[39m_warn()\n\u001b[0;32m    539\u001b[0m     \u001b[38;5;28;01mreturn\u001b[39;00m \u001b[38;5;28;01mTrue\u001b[39;00m\n",
      "\u001b[1;31mAttributeError\u001b[0m: 'list' object has no attribute 'startswith'"
     ]
    }
   ],
   "source": [
    "chat=bs(chats)\n",
    "for i in chat:\n",
    "    chat_element(i)\n",
    "    sleep(5)"
   ]
  },
  {
   "cell_type": "code",
   "execution_count": 9,
   "id": "fa7dc346",
   "metadata": {},
   "outputs": [],
   "source": [
    "def run_scraper():\n",
    "\n",
    "    message_window = driver.find_element(By.ID,'main')\n",
    "    data = message_window.get_attribute('innerHTML')\n",
    "\n",
    "    soup = BeautifulSoup(data)\n",
    "    chats = soup.find_all('div', class_='vW7d1')\n",
    "    print (\"chats...\", len(chats))\n",
    "    \n",
    "    #get group details\n",
    "    group_name =  BeautifulSoup(driver.find_element(By.XPATH,'//*[@id=\"main\"]/header/div[2]/div[1]/div').get_attribute('innerHTML')).find('span')['title']\n",
    "    \n",
    "    #open_group_details\n",
    "    driver.find_element(By.CLASS_NAME,'_1WBXd').click()\n",
    "    group_created_at = driver.find_element(By.CLASS_NAME,'Cpiae').get_attribute('innerHTML')\n",
    "    driver.find_element(By.XPATH,'//*[@id=\"app\"]/div/div/div[1]/div[3]/span/div/span/div/header/div/div[1]/button/span').click()\n",
    "\n",
    "    group_details = [group_name.encode('utf-8'), group_created_at, group_id]\n",
    "    print (group_details)\n",
    "\n",
    "    group_data.append(group_details)\n",
    "    output_to_csv(group_data, 'group_details.csv')\n",
    "\n",
    "    #process chat data\n",
    "    chat_data = []\n",
    "    for i in chats:\n",
    "        parsed_chat = process_chat(i)\n",
    "        chat_data.append([group_id, group_name.encode('utf-8'),group_created_at] + parsed_chat)"
   ]
  },
  {
   "cell_type": "code",
   "execution_count": 11,
   "id": "6492e0d7",
   "metadata": {},
   "outputs": [
    {
     "name": "stdout",
     "output_type": "stream",
     "text": [
      "//span[contains(@title, \"Abdoul Aziz Ndiaye\")]\n",
      "<selenium.webdriver.remote.webelement.WebElement (session=\"bd5324f364f0b294d7fc70ec1989b5dc\", element=\"0F9A5636CE17453218615A103C635062_element_318\")>\n"
     ]
    }
   ],
   "source": []
  },
  {
   "cell_type": "code",
   "execution_count": null,
   "id": "18a10d2b",
   "metadata": {},
   "outputs": [],
   "source": []
  }
 ],
 "metadata": {
  "kernelspec": {
   "display_name": "Python 3 (ipykernel)",
   "language": "python",
   "name": "python3"
  },
  "language_info": {
   "codemirror_mode": {
    "name": "ipython",
    "version": 3
   },
   "file_extension": ".py",
   "mimetype": "text/x-python",
   "name": "python",
   "nbconvert_exporter": "python",
   "pygments_lexer": "ipython3",
   "version": "3.9.12"
  }
 },
 "nbformat": 4,
 "nbformat_minor": 5
}
