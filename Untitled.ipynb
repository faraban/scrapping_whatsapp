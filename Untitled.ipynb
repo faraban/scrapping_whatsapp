{
 "cells": [
  {
   "cell_type": "code",
   "execution_count": 1,
   "id": "e41499a9",
   "metadata": {},
   "outputs": [],
   "source": [
    "import pandas as pd\n",
    "from bs4 import BeautifulSoup\n",
    "from time import sleep\n",
    "import os"
   ]
  },
  {
   "cell_type": "code",
   "execution_count": 2,
   "id": "010504e1",
   "metadata": {},
   "outputs": [],
   "source": [
    "from selenium import webdriver\n",
    "from selenium.webdriver.support.ui import WebDriverWait\n",
    "from selenium.webdriver.support import expected_conditions as EC\n",
    "from selenium.webdriver.common.keys import Keys\n",
    "from selenium.webdriver.common.by import By"
   ]
  },
  {
   "cell_type": "code",
   "execution_count": 13,
   "id": "7d7a3579",
   "metadata": {},
   "outputs": [],
   "source": [
    "def Takechats(liste,stopdate):\n",
    "    wait = WebDriverWait(driver, 100)\n",
    "    for name in liste:\n",
    "        arg = '//span[contains(@title, '+ '\"' +name + '\"'+ ')]'\n",
    "        title = wait.until(EC.presence_of_element_located((By.XPATH,arg))).click()\n",
    "        dates=[]\n",
    "        time=0\n",
    "        while stopdate not in dates:\n",
    "            chats = driver.find_elements(By.CLASS_NAME,\"cm280p3y.to2l77zo.n1yiu2zv.ft2m32mm.oq31bsqd.e1yunedv\")\n",
    "            date=driver.find_elements(By.CLASS_NAME,'UzMP7.n6BPp')\n",
    "            driver.execute_script(\"arguments[0].scrollIntoView();\",date[0])\n",
    "            sleep(2)\n",
    "            \n",
    "            for i in date:\n",
    "                try:\n",
    "                    dates.append(i.text)\n",
    "                except:\n",
    "                    dates.append('AN')\n",
    "                    continue\n",
    "    return chats"
   ]
  },
  {
   "cell_type": "code",
   "execution_count": 4,
   "id": "a1a79eec",
   "metadata": {},
   "outputs": [],
   "source": [
    "def chat_elements(chat):\n",
    "    message_type = \"\"\n",
    "    chat_text = \"\"\n",
    "    \n",
    "    check_image = chat.find('div', class_='_3v3PK')\n",
    "    check_video = chat.find('div', class_='_1opHa video-thumb')\n",
    "    check_deleted_msg = chat.find('div', class_='_1fkCN')\n",
    "    check_document = chat.find('a', class_='_1vKRe')\n",
    "    check_waiting_message = chat.find('div', class_='_3zb-j ZhF0n _18dOq')\n",
    "    check_whatsapp_audio_1 = chat.find('div', class_='_3_7SH _17oKL message-in')\n",
    "    check_whatsapp_audio_2 = chat.find('div', class_='_3_7SH _17oKL message-in tail')\n",
    "    check_sound_clip_1 = chat.find('div', class_='_3_7SH _1gqYh message-in')\n",
    "    check_sound_clip_2 = chat.find('div', class_='_3_7SH _1gqYh message-in tail')\n",
    "    check_gif = chat.find('span', {'data-icon':'media-gif'})\n",
    "\n",
    "    if check_video:\n",
    "        message_type = \"video\"\n",
    "    elif check_image:\n",
    "        message_type = \"image\"\n",
    "        try:\n",
    "            chat_text = chat.find('span', class_='selectable-text invisible-space copyable-text').text\n",
    "        except:\n",
    "            chat_text = \"\"\n",
    "    elif check_deleted_msg:\n",
    "        message_type = \"deleted_message\"\n",
    "    elif check_document:\n",
    "        message_type = \"document\"\n",
    "    elif check_waiting_message:\n",
    "        chat_text = check_waiting_message.text\n",
    "    elif check_whatsapp_audio_1 or check_whatsapp_audio_2:\n",
    "        message_type = 'whatsapp_audio'\n",
    "    elif check_sound_clip_1 or check_sound_clip_2:\n",
    "        message_type = 'sound_clip'\n",
    "    elif check_gif:\n",
    "        message_type = 'gif'\n",
    "    else:\n",
    "        message_type = \"text\"\n",
    "        try:\n",
    "            chat_text = chat.find('div', class_='copyable-text').text\n",
    "        except:\n",
    "            print (\"error: \", chat, \"\\n\\n\\n\")\n",
    "            return chat\n",
    "\n",
    "    try:\n",
    "        sender_number = chat.find('span', class_=\"RZ7GO\").text\n",
    "    except:\n",
    "        sender_number = \"NA\"\n",
    "    try:\n",
    "        chat_time = chat.find('span', class_='_3EFt_').text\n",
    "    except:\n",
    "        chat_time = \"NA\"\n",
    "    try:\n",
    "        chat_datetime = chat.find('div', class_='copyable-text')['data-pre-plain-text']\n",
    "    except:\n",
    "        chat_datetime = \"NA\"\n",
    "    try:\n",
    "        chat_msg = chat.find('div', class_='_3zb-j ZhF0n').text\n",
    "    except:\n",
    "        chat_msg = \"NA\"\n",
    "    try:\n",
    "        sender_name = chat.find('span', class_='_3Ye_R _1wjpf _1OmDL').text\n",
    "    except:\n",
    "        sender_name = \"NA\"\n",
    "    try:\n",
    "        #urls = list(set(re.findall('https?://(?:[-\\w.]|(?:%[\\da-fA-F]{2}))+', str(chat))))\n",
    "        urls = list(set([a['href'] for a in chat.find_all('a')]))\n",
    "    except:\n",
    "        print (\"urls extraction issue\")\n",
    "        urls = []\n",
    "    return [chat.encode('utf-8'), message_type, unicode(chat_text).encode('utf-8'), sender_number, chat_time, chat_datetime, sender_name.encode('utf-8'), str(urls)]\n"
   ]
  },
  {
   "cell_type": "code",
   "execution_count": 14,
   "id": "b1d387b1",
   "metadata": {},
   "outputs": [],
   "source": [
    "# liste=['CLOUD AWS C1 by SIMPLON']\n",
    "# date='2023-09-21'\n",
    "# chats=Takechats(liste,date)"
   ]
  },
  {
   "cell_type": "code",
   "execution_count": 16,
   "id": "1b80c03c",
   "metadata": {},
   "outputs": [],
   "source": [
    "# for chat in chats:\n",
    "#     chats[2].get_attribute('innerHTML')\n",
    "#     sleep(5)"
   ]
  },
  {
   "cell_type": "code",
   "execution_count": 3,
   "id": "77f883c5",
   "metadata": {},
   "outputs": [],
   "source": [
    "driver = webdriver.Chrome()\n",
    "driver.get(\"https://web.whatsapp.com/\")"
   ]
  },
  {
   "cell_type": "code",
   "execution_count": 9,
   "id": "fa7dc346",
   "metadata": {},
   "outputs": [],
   "source": [
    " def run_scraper():\n",
    "    for i in chats:\n",
    "        parsed_chat = process_chat(i)\n",
    "        chat_data.append([group_id, group_name.encode('utf-8'),group_created_at] + parsed_chat)"
   ]
  },
  {
   "cell_type": "code",
   "execution_count": null,
   "id": "e50727f5",
   "metadata": {},
   "outputs": [],
   "source": []
  }
 ],
 "metadata": {
  "kernelspec": {
   "display_name": "Python 3 (ipykernel)",
   "language": "python",
   "name": "python3"
  },
  "language_info": {
   "codemirror_mode": {
    "name": "ipython",
    "version": 3
   },
   "file_extension": ".py",
   "mimetype": "text/x-python",
   "name": "python",
   "nbconvert_exporter": "python",
   "pygments_lexer": "ipython3",
   "version": "3.9.12"
  }
 },
 "nbformat": 4,
 "nbformat_minor": 5
}
